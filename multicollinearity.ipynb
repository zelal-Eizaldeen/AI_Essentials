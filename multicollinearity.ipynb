{
  "nbformat": 4,
  "nbformat_minor": 0,
  "metadata": {
    "colab": {
      "provenance": []
    },
    "kernelspec": {
      "name": "python3",
      "display_name": "Python 3"
    },
    "language_info": {
      "name": "python"
    }
  },
  "cells": [
    {
      "cell_type": "markdown",
      "source": [
        "# What Is Multicollinearity?"
      ],
      "metadata": {
        "id": "6W3OhQAEBh9a"
      }
    },
    {
      "cell_type": "markdown",
      "source": [
        "What Is Multicollinearity?\n",
        "Multicollinearity occurs when two or more independent variables (features) in a regression model are highly linearly correlated. This means one feature can be nearly predicted from another.\n",
        "\n"
      ],
      "metadata": {
        "id": "rrIdZ_cp-F68"
      }
    },
    {
      "cell_type": "markdown",
      "source": [
        "# How Multicollinearity Impacts Linear Regression\n",
        "1- Unstable Coefficients\n",
        "The model struggles to determine how much each feature independently contributes to the outcome.\n",
        "\n",
        "Small changes in data can cause large swings in coefficient values.\n",
        "\n",
        "2- Inflated Standard Errors\n",
        "\n",
        "Leads to wider confidence intervals.\n",
        "\n",
        "Coefficients may appear statistically insignificant (high p-values), even if they are meaningful.\n",
        "\n",
        "Reduces Interpretability\n",
        "\n",
        "It becomes difficult to explain the individual effect of correlated features.\n",
        "\n",
        "Can Lead to Overfitting\n",
        "\n",
        "The model might capture noise rather than true patterns when fitted to training data.\n",
        "\n"
      ],
      "metadata": {
        "id": "l7J98KmU-1ci"
      }
    },
    {
      "cell_type": "markdown",
      "source": [
        "How to Detect Multicollinearity\n",
        "1. Correlation Matrix\n",
        "Shows pairwise correlations.\n",
        "\n",
        "Use: pandas.DataFrame.corr()\n",
        "\n",
        "Look for correlation coefficients close to ±1.\n",
        "\n"
      ],
      "metadata": {
        "id": "pqbws7zp_MYE"
      }
    },
    {
      "cell_type": "markdown",
      "source": [
        " How to Address Multicollinearity\n",
        "1. Drop One of the Correlated Variables\n",
        "Especially if two variables are nearly duplicates.\n",
        "\n",
        "2. Combine Features\n",
        "Average or create a domain-specific composite.\n",
        "\n",
        "3. Principal Component Regression (PCR)\n",
        "Use PCA to project features onto orthogonal components.\n",
        "\n",
        "4. Regularization Techniques\n",
        "Ridge Regression (L2): Reduces coefficient magnitude, especially useful when features are correlated.\n",
        "\n",
        "Lasso Regression (L1): Encourages sparsity and can zero out some coefficients.\n",
        "\n",
        "ElasticNet: Hybrid of L1 and L2."
      ],
      "metadata": {
        "id": "qSZIOXMS_1nI"
      }
    },
    {
      "cell_type": "markdown",
      "source": [
        "# Example with sythetic data"
      ],
      "metadata": {
        "id": "W1LGhf1i_-Zc"
      }
    },
    {
      "cell_type": "markdown",
      "source": [
        "Step 1: Simulate Data with Multicollinearity"
      ],
      "metadata": {
        "id": "xHqSJViiACVJ"
      }
    },
    {
      "cell_type": "code",
      "source": [
        "import numpy as np\n",
        "import pandas as pd\n",
        "import matplotlib.pyplot as plt\n",
        "from sklearn.linear_model import LinearRegression, Ridge, Lasso\n",
        "from sklearn.metrics import mean_squared_error\n",
        "from statsmodels.stats.outliers_influence import variance_inflation_factor\n",
        "\n",
        "# Set seed for reproducibility\n",
        "np.random.seed(42)\n",
        "\n",
        "# Create features\n",
        "n_samples = 100\n",
        "X1 = np.random.normal(0, 1, n_samples)\n",
        "X2 = X1 + np.random.normal(0, 0.1, n_samples)  # Highly correlated with X1\n",
        "X3 = np.random.normal(0, 1, n_samples)\n",
        "\n",
        "# Target variable\n",
        "y = 3 * X1 + 2 * X3 + np.random.normal(0, 1, n_samples)\n",
        "\n",
        "# DataFrame\n",
        "df = pd.DataFrame({'X1': X1, 'X2': X2, 'X3': X3})\n"
      ],
      "metadata": {
        "id": "HAbfBsR__5KO"
      },
      "execution_count": 1,
      "outputs": []
    },
    {
      "cell_type": "code",
      "source": [
        "df"
      ],
      "metadata": {
        "colab": {
          "base_uri": "https://localhost:8080/",
          "height": 423
        },
        "id": "j6lYw7-XAQOo",
        "outputId": "80dda82d-4931-43c8-be0f-2776ab2e006a"
      },
      "execution_count": 2,
      "outputs": [
        {
          "output_type": "execute_result",
          "data": {
            "text/plain": [
              "          X1        X2        X3\n",
              "0   0.496714  0.355177  0.357787\n",
              "1  -0.138264 -0.180329  0.560785\n",
              "2   0.647689  0.613417  1.083051\n",
              "3   1.523030  1.442802  1.053802\n",
              "4  -0.234153 -0.250282 -1.377669\n",
              "..       ...       ...       ...\n",
              "95 -1.463515 -1.424983 -0.692910\n",
              "96  0.296120  0.207735  0.899600\n",
              "97  0.261055  0.276428  0.307300\n",
              "98  0.005113  0.010934  0.812862\n",
              "99 -0.234587 -0.348884  0.629629\n",
              "\n",
              "[100 rows x 3 columns]"
            ],
            "text/html": [
              "\n",
              "  <div id=\"df-f78dd7f6-7f67-4fb1-a0f2-d96c4bc63ee5\" class=\"colab-df-container\">\n",
              "    <div>\n",
              "<style scoped>\n",
              "    .dataframe tbody tr th:only-of-type {\n",
              "        vertical-align: middle;\n",
              "    }\n",
              "\n",
              "    .dataframe tbody tr th {\n",
              "        vertical-align: top;\n",
              "    }\n",
              "\n",
              "    .dataframe thead th {\n",
              "        text-align: right;\n",
              "    }\n",
              "</style>\n",
              "<table border=\"1\" class=\"dataframe\">\n",
              "  <thead>\n",
              "    <tr style=\"text-align: right;\">\n",
              "      <th></th>\n",
              "      <th>X1</th>\n",
              "      <th>X2</th>\n",
              "      <th>X3</th>\n",
              "    </tr>\n",
              "  </thead>\n",
              "  <tbody>\n",
              "    <tr>\n",
              "      <th>0</th>\n",
              "      <td>0.496714</td>\n",
              "      <td>0.355177</td>\n",
              "      <td>0.357787</td>\n",
              "    </tr>\n",
              "    <tr>\n",
              "      <th>1</th>\n",
              "      <td>-0.138264</td>\n",
              "      <td>-0.180329</td>\n",
              "      <td>0.560785</td>\n",
              "    </tr>\n",
              "    <tr>\n",
              "      <th>2</th>\n",
              "      <td>0.647689</td>\n",
              "      <td>0.613417</td>\n",
              "      <td>1.083051</td>\n",
              "    </tr>\n",
              "    <tr>\n",
              "      <th>3</th>\n",
              "      <td>1.523030</td>\n",
              "      <td>1.442802</td>\n",
              "      <td>1.053802</td>\n",
              "    </tr>\n",
              "    <tr>\n",
              "      <th>4</th>\n",
              "      <td>-0.234153</td>\n",
              "      <td>-0.250282</td>\n",
              "      <td>-1.377669</td>\n",
              "    </tr>\n",
              "    <tr>\n",
              "      <th>...</th>\n",
              "      <td>...</td>\n",
              "      <td>...</td>\n",
              "      <td>...</td>\n",
              "    </tr>\n",
              "    <tr>\n",
              "      <th>95</th>\n",
              "      <td>-1.463515</td>\n",
              "      <td>-1.424983</td>\n",
              "      <td>-0.692910</td>\n",
              "    </tr>\n",
              "    <tr>\n",
              "      <th>96</th>\n",
              "      <td>0.296120</td>\n",
              "      <td>0.207735</td>\n",
              "      <td>0.899600</td>\n",
              "    </tr>\n",
              "    <tr>\n",
              "      <th>97</th>\n",
              "      <td>0.261055</td>\n",
              "      <td>0.276428</td>\n",
              "      <td>0.307300</td>\n",
              "    </tr>\n",
              "    <tr>\n",
              "      <th>98</th>\n",
              "      <td>0.005113</td>\n",
              "      <td>0.010934</td>\n",
              "      <td>0.812862</td>\n",
              "    </tr>\n",
              "    <tr>\n",
              "      <th>99</th>\n",
              "      <td>-0.234587</td>\n",
              "      <td>-0.348884</td>\n",
              "      <td>0.629629</td>\n",
              "    </tr>\n",
              "  </tbody>\n",
              "</table>\n",
              "<p>100 rows × 3 columns</p>\n",
              "</div>\n",
              "    <div class=\"colab-df-buttons\">\n",
              "\n",
              "  <div class=\"colab-df-container\">\n",
              "    <button class=\"colab-df-convert\" onclick=\"convertToInteractive('df-f78dd7f6-7f67-4fb1-a0f2-d96c4bc63ee5')\"\n",
              "            title=\"Convert this dataframe to an interactive table.\"\n",
              "            style=\"display:none;\">\n",
              "\n",
              "  <svg xmlns=\"http://www.w3.org/2000/svg\" height=\"24px\" viewBox=\"0 -960 960 960\">\n",
              "    <path d=\"M120-120v-720h720v720H120Zm60-500h600v-160H180v160Zm220 220h160v-160H400v160Zm0 220h160v-160H400v160ZM180-400h160v-160H180v160Zm440 0h160v-160H620v160ZM180-180h160v-160H180v160Zm440 0h160v-160H620v160Z\"/>\n",
              "  </svg>\n",
              "    </button>\n",
              "\n",
              "  <style>\n",
              "    .colab-df-container {\n",
              "      display:flex;\n",
              "      gap: 12px;\n",
              "    }\n",
              "\n",
              "    .colab-df-convert {\n",
              "      background-color: #E8F0FE;\n",
              "      border: none;\n",
              "      border-radius: 50%;\n",
              "      cursor: pointer;\n",
              "      display: none;\n",
              "      fill: #1967D2;\n",
              "      height: 32px;\n",
              "      padding: 0 0 0 0;\n",
              "      width: 32px;\n",
              "    }\n",
              "\n",
              "    .colab-df-convert:hover {\n",
              "      background-color: #E2EBFA;\n",
              "      box-shadow: 0px 1px 2px rgba(60, 64, 67, 0.3), 0px 1px 3px 1px rgba(60, 64, 67, 0.15);\n",
              "      fill: #174EA6;\n",
              "    }\n",
              "\n",
              "    .colab-df-buttons div {\n",
              "      margin-bottom: 4px;\n",
              "    }\n",
              "\n",
              "    [theme=dark] .colab-df-convert {\n",
              "      background-color: #3B4455;\n",
              "      fill: #D2E3FC;\n",
              "    }\n",
              "\n",
              "    [theme=dark] .colab-df-convert:hover {\n",
              "      background-color: #434B5C;\n",
              "      box-shadow: 0px 1px 3px 1px rgba(0, 0, 0, 0.15);\n",
              "      filter: drop-shadow(0px 1px 2px rgba(0, 0, 0, 0.3));\n",
              "      fill: #FFFFFF;\n",
              "    }\n",
              "  </style>\n",
              "\n",
              "    <script>\n",
              "      const buttonEl =\n",
              "        document.querySelector('#df-f78dd7f6-7f67-4fb1-a0f2-d96c4bc63ee5 button.colab-df-convert');\n",
              "      buttonEl.style.display =\n",
              "        google.colab.kernel.accessAllowed ? 'block' : 'none';\n",
              "\n",
              "      async function convertToInteractive(key) {\n",
              "        const element = document.querySelector('#df-f78dd7f6-7f67-4fb1-a0f2-d96c4bc63ee5');\n",
              "        const dataTable =\n",
              "          await google.colab.kernel.invokeFunction('convertToInteractive',\n",
              "                                                    [key], {});\n",
              "        if (!dataTable) return;\n",
              "\n",
              "        const docLinkHtml = 'Like what you see? Visit the ' +\n",
              "          '<a target=\"_blank\" href=https://colab.research.google.com/notebooks/data_table.ipynb>data table notebook</a>'\n",
              "          + ' to learn more about interactive tables.';\n",
              "        element.innerHTML = '';\n",
              "        dataTable['output_type'] = 'display_data';\n",
              "        await google.colab.output.renderOutput(dataTable, element);\n",
              "        const docLink = document.createElement('div');\n",
              "        docLink.innerHTML = docLinkHtml;\n",
              "        element.appendChild(docLink);\n",
              "      }\n",
              "    </script>\n",
              "  </div>\n",
              "\n",
              "\n",
              "    <div id=\"df-dfed3c48-3048-4b25-af0d-4764a544c125\">\n",
              "      <button class=\"colab-df-quickchart\" onclick=\"quickchart('df-dfed3c48-3048-4b25-af0d-4764a544c125')\"\n",
              "                title=\"Suggest charts\"\n",
              "                style=\"display:none;\">\n",
              "\n",
              "<svg xmlns=\"http://www.w3.org/2000/svg\" height=\"24px\"viewBox=\"0 0 24 24\"\n",
              "     width=\"24px\">\n",
              "    <g>\n",
              "        <path d=\"M19 3H5c-1.1 0-2 .9-2 2v14c0 1.1.9 2 2 2h14c1.1 0 2-.9 2-2V5c0-1.1-.9-2-2-2zM9 17H7v-7h2v7zm4 0h-2V7h2v10zm4 0h-2v-4h2v4z\"/>\n",
              "    </g>\n",
              "</svg>\n",
              "      </button>\n",
              "\n",
              "<style>\n",
              "  .colab-df-quickchart {\n",
              "      --bg-color: #E8F0FE;\n",
              "      --fill-color: #1967D2;\n",
              "      --hover-bg-color: #E2EBFA;\n",
              "      --hover-fill-color: #174EA6;\n",
              "      --disabled-fill-color: #AAA;\n",
              "      --disabled-bg-color: #DDD;\n",
              "  }\n",
              "\n",
              "  [theme=dark] .colab-df-quickchart {\n",
              "      --bg-color: #3B4455;\n",
              "      --fill-color: #D2E3FC;\n",
              "      --hover-bg-color: #434B5C;\n",
              "      --hover-fill-color: #FFFFFF;\n",
              "      --disabled-bg-color: #3B4455;\n",
              "      --disabled-fill-color: #666;\n",
              "  }\n",
              "\n",
              "  .colab-df-quickchart {\n",
              "    background-color: var(--bg-color);\n",
              "    border: none;\n",
              "    border-radius: 50%;\n",
              "    cursor: pointer;\n",
              "    display: none;\n",
              "    fill: var(--fill-color);\n",
              "    height: 32px;\n",
              "    padding: 0;\n",
              "    width: 32px;\n",
              "  }\n",
              "\n",
              "  .colab-df-quickchart:hover {\n",
              "    background-color: var(--hover-bg-color);\n",
              "    box-shadow: 0 1px 2px rgba(60, 64, 67, 0.3), 0 1px 3px 1px rgba(60, 64, 67, 0.15);\n",
              "    fill: var(--button-hover-fill-color);\n",
              "  }\n",
              "\n",
              "  .colab-df-quickchart-complete:disabled,\n",
              "  .colab-df-quickchart-complete:disabled:hover {\n",
              "    background-color: var(--disabled-bg-color);\n",
              "    fill: var(--disabled-fill-color);\n",
              "    box-shadow: none;\n",
              "  }\n",
              "\n",
              "  .colab-df-spinner {\n",
              "    border: 2px solid var(--fill-color);\n",
              "    border-color: transparent;\n",
              "    border-bottom-color: var(--fill-color);\n",
              "    animation:\n",
              "      spin 1s steps(1) infinite;\n",
              "  }\n",
              "\n",
              "  @keyframes spin {\n",
              "    0% {\n",
              "      border-color: transparent;\n",
              "      border-bottom-color: var(--fill-color);\n",
              "      border-left-color: var(--fill-color);\n",
              "    }\n",
              "    20% {\n",
              "      border-color: transparent;\n",
              "      border-left-color: var(--fill-color);\n",
              "      border-top-color: var(--fill-color);\n",
              "    }\n",
              "    30% {\n",
              "      border-color: transparent;\n",
              "      border-left-color: var(--fill-color);\n",
              "      border-top-color: var(--fill-color);\n",
              "      border-right-color: var(--fill-color);\n",
              "    }\n",
              "    40% {\n",
              "      border-color: transparent;\n",
              "      border-right-color: var(--fill-color);\n",
              "      border-top-color: var(--fill-color);\n",
              "    }\n",
              "    60% {\n",
              "      border-color: transparent;\n",
              "      border-right-color: var(--fill-color);\n",
              "    }\n",
              "    80% {\n",
              "      border-color: transparent;\n",
              "      border-right-color: var(--fill-color);\n",
              "      border-bottom-color: var(--fill-color);\n",
              "    }\n",
              "    90% {\n",
              "      border-color: transparent;\n",
              "      border-bottom-color: var(--fill-color);\n",
              "    }\n",
              "  }\n",
              "</style>\n",
              "\n",
              "      <script>\n",
              "        async function quickchart(key) {\n",
              "          const quickchartButtonEl =\n",
              "            document.querySelector('#' + key + ' button');\n",
              "          quickchartButtonEl.disabled = true;  // To prevent multiple clicks.\n",
              "          quickchartButtonEl.classList.add('colab-df-spinner');\n",
              "          try {\n",
              "            const charts = await google.colab.kernel.invokeFunction(\n",
              "                'suggestCharts', [key], {});\n",
              "          } catch (error) {\n",
              "            console.error('Error during call to suggestCharts:', error);\n",
              "          }\n",
              "          quickchartButtonEl.classList.remove('colab-df-spinner');\n",
              "          quickchartButtonEl.classList.add('colab-df-quickchart-complete');\n",
              "        }\n",
              "        (() => {\n",
              "          let quickchartButtonEl =\n",
              "            document.querySelector('#df-dfed3c48-3048-4b25-af0d-4764a544c125 button');\n",
              "          quickchartButtonEl.style.display =\n",
              "            google.colab.kernel.accessAllowed ? 'block' : 'none';\n",
              "        })();\n",
              "      </script>\n",
              "    </div>\n",
              "\n",
              "  <div id=\"id_f66d56a4-9b53-406c-8d81-6804a5c884be\">\n",
              "    <style>\n",
              "      .colab-df-generate {\n",
              "        background-color: #E8F0FE;\n",
              "        border: none;\n",
              "        border-radius: 50%;\n",
              "        cursor: pointer;\n",
              "        display: none;\n",
              "        fill: #1967D2;\n",
              "        height: 32px;\n",
              "        padding: 0 0 0 0;\n",
              "        width: 32px;\n",
              "      }\n",
              "\n",
              "      .colab-df-generate:hover {\n",
              "        background-color: #E2EBFA;\n",
              "        box-shadow: 0px 1px 2px rgba(60, 64, 67, 0.3), 0px 1px 3px 1px rgba(60, 64, 67, 0.15);\n",
              "        fill: #174EA6;\n",
              "      }\n",
              "\n",
              "      [theme=dark] .colab-df-generate {\n",
              "        background-color: #3B4455;\n",
              "        fill: #D2E3FC;\n",
              "      }\n",
              "\n",
              "      [theme=dark] .colab-df-generate:hover {\n",
              "        background-color: #434B5C;\n",
              "        box-shadow: 0px 1px 3px 1px rgba(0, 0, 0, 0.15);\n",
              "        filter: drop-shadow(0px 1px 2px rgba(0, 0, 0, 0.3));\n",
              "        fill: #FFFFFF;\n",
              "      }\n",
              "    </style>\n",
              "    <button class=\"colab-df-generate\" onclick=\"generateWithVariable('df')\"\n",
              "            title=\"Generate code using this dataframe.\"\n",
              "            style=\"display:none;\">\n",
              "\n",
              "  <svg xmlns=\"http://www.w3.org/2000/svg\" height=\"24px\"viewBox=\"0 0 24 24\"\n",
              "       width=\"24px\">\n",
              "    <path d=\"M7,19H8.4L18.45,9,17,7.55,7,17.6ZM5,21V16.75L18.45,3.32a2,2,0,0,1,2.83,0l1.4,1.43a1.91,1.91,0,0,1,.58,1.4,1.91,1.91,0,0,1-.58,1.4L9.25,21ZM18.45,9,17,7.55Zm-12,3A5.31,5.31,0,0,0,4.9,8.1,5.31,5.31,0,0,0,1,6.5,5.31,5.31,0,0,0,4.9,4.9,5.31,5.31,0,0,0,6.5,1,5.31,5.31,0,0,0,8.1,4.9,5.31,5.31,0,0,0,12,6.5,5.46,5.46,0,0,0,6.5,12Z\"/>\n",
              "  </svg>\n",
              "    </button>\n",
              "    <script>\n",
              "      (() => {\n",
              "      const buttonEl =\n",
              "        document.querySelector('#id_f66d56a4-9b53-406c-8d81-6804a5c884be button.colab-df-generate');\n",
              "      buttonEl.style.display =\n",
              "        google.colab.kernel.accessAllowed ? 'block' : 'none';\n",
              "\n",
              "      buttonEl.onclick = () => {\n",
              "        google.colab.notebook.generateWithVariable('df');\n",
              "      }\n",
              "      })();\n",
              "    </script>\n",
              "  </div>\n",
              "\n",
              "    </div>\n",
              "  </div>\n"
            ],
            "application/vnd.google.colaboratory.intrinsic+json": {
              "type": "dataframe",
              "variable_name": "df",
              "summary": "{\n  \"name\": \"df\",\n  \"rows\": 100,\n  \"fields\": [\n    {\n      \"column\": \"X1\",\n      \"properties\": {\n        \"dtype\": \"number\",\n        \"std\": 0.9081684280078008,\n        \"min\": -2.6197451040897444,\n        \"max\": 1.8522781845089378,\n        \"num_unique_values\": 100,\n        \"samples\": [\n          -0.5182702182736474,\n          0.6116762888408679,\n          0.36139560550841393\n        ],\n        \"semantic_type\": \"\",\n        \"description\": \"\"\n      }\n    },\n    {\n      \"column\": \"X2\",\n      \"properties\": {\n        \"dtype\": \"number\",\n        \"std\": 0.9001299350832631,\n        \"min\": -2.5920760241567424,\n        \"max\": 1.8591344819895406,\n        \"num_unique_values\": 100,\n        \"samples\": [\n          -0.47002297674932886,\n          0.6349016585569682,\n          0.27244416254586157\n        ],\n        \"semantic_type\": \"\",\n        \"description\": \"\"\n      }\n    },\n    {\n      \"column\": \"X3\",\n      \"properties\": {\n        \"dtype\": \"number\",\n        \"std\": 1.0842828823875907,\n        \"min\": -3.2412673400690726,\n        \"max\": 3.852731490654721,\n        \"num_unique_values\": 100,\n        \"samples\": [\n          -1.237815498826849,\n          1.0324652605511468,\n          1.4412732890661155\n        ],\n        \"semantic_type\": \"\",\n        \"description\": \"\"\n      }\n    }\n  ]\n}"
            }
          },
          "metadata": {},
          "execution_count": 2
        }
      ]
    },
    {
      "cell_type": "markdown",
      "source": [
        "Step 2: Detect Multicollinearity"
      ],
      "metadata": {
        "id": "Dvf-psZ3AWVW"
      }
    },
    {
      "cell_type": "code",
      "source": [
        "#Correlation Matrix\n",
        "print(\"Correlation Matrix:\")\n",
        "print(df.corr().round(2))\n"
      ],
      "metadata": {
        "colab": {
          "base_uri": "https://localhost:8080/"
        },
        "id": "Co-r51TEAaDR",
        "outputId": "59ffeea1-03b8-410c-8582-05ff25eac225"
      },
      "execution_count": 3,
      "outputs": [
        {
          "output_type": "stream",
          "name": "stdout",
          "text": [
            "Correlation Matrix:\n",
            "      X1    X2    X3\n",
            "X1  1.00  0.99  0.19\n",
            "X2  0.99  1.00  0.19\n",
            "X3  0.19  0.19  1.00\n"
          ]
        }
      ]
    },
    {
      "cell_type": "markdown",
      "source": [
        "tep 3: Compare Regression Models"
      ],
      "metadata": {
        "id": "9SF_Zm2-An7D"
      }
    },
    {
      "cell_type": "code",
      "source": [
        "from sklearn.model_selection import train_test_split\n",
        "\n",
        "# Train/test split\n",
        "X_train, X_test, y_train, y_test = train_test_split(df, y, test_size=0.3, random_state=42)\n",
        "\n",
        "# Models\n",
        "models = {\n",
        "    \"Linear\": LinearRegression(),\n",
        "    \"Ridge\": Ridge(alpha=1.0),\n",
        "    \"Lasso\": Lasso(alpha=0.1)\n",
        "}\n",
        "\n",
        "# Fit and evaluate\n",
        "for name, model in models.items():\n",
        "    model.fit(X_train, y_train)\n",
        "    y_pred = model.predict(X_test)\n",
        "    mse = mean_squared_error(y_test, y_pred)\n",
        "    print(f\"{name} Regression:\")\n",
        "    print(\" Coefficients:\", model.coef_)\n",
        "    print(f\" MSE: {mse:.4f}\\n\")\n"
      ],
      "metadata": {
        "colab": {
          "base_uri": "https://localhost:8080/"
        },
        "id": "oy9LxxzsAp07",
        "outputId": "e8d6f081-7885-4bee-8ca4-ab029b2378e3"
      },
      "execution_count": 4,
      "outputs": [
        {
          "output_type": "stream",
          "name": "stdout",
          "text": [
            "Linear Regression:\n",
            " Coefficients: [ 3.80115314 -0.97243535  2.01337108]\n",
            " MSE: 0.6841\n",
            "\n",
            "Ridge Regression:\n",
            " Coefficients: [1.9991372  0.83238686 1.98484509]\n",
            " MSE: 0.6401\n",
            "\n",
            "Lasso Regression:\n",
            " Coefficients: [2.74898842 0.         1.93906204]\n",
            " MSE: 0.6641\n",
            "\n"
          ]
        }
      ]
    },
    {
      "cell_type": "markdown",
      "source": [
        "# Observations:\n",
        "Linear Regression will likely show unstable coefficients for X1 and X2.\n",
        "\n",
        "Ridge Regression stabilizes them by shrinking.\n",
        "\n",
        "Lasso may set one of the correlated variables’ coefficients to 0 (feature selection)."
      ],
      "metadata": {
        "id": "lP9sPi-kA8zi"
      }
    },
    {
      "cell_type": "markdown",
      "source": [
        "# Visualize Coefficients"
      ],
      "metadata": {
        "id": "SqFmP5OwBLgp"
      }
    },
    {
      "cell_type": "code",
      "source": [
        "coef_df = pd.DataFrame({name: model.coef_ for name, model in models.items()}, index=df.columns)\n",
        "coef_df.plot(kind='bar')\n",
        "plt.title(\"Model Coefficients Comparison\")\n",
        "plt.ylabel(\"Coefficient Value\")\n",
        "plt.show()\n"
      ],
      "metadata": {
        "colab": {
          "base_uri": "https://localhost:8080/",
          "height": 457
        },
        "id": "UUUWm7E3BN-A",
        "outputId": "12f432ec-42e4-49b8-f9d4-763c1f8062a9"
      },
      "execution_count": 5,
      "outputs": [
        {
          "output_type": "display_data",
          "data": {
            "text/plain": [
              "<Figure size 640x480 with 1 Axes>"
            ],
            "image/png": "[encoded data removed]"
          },
          "metadata": {}
        }
      ]
    }
  ]
}